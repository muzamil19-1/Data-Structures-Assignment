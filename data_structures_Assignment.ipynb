{
  "nbformat": 4,
  "nbformat_minor": 0,
  "metadata": {
    "colab": {
      "provenance": []
    },
    "kernelspec": {
      "name": "python3",
      "display_name": "Python 3"
    },
    "language_info": {
      "name": "python"
    }
  },
  "cells": [
    {
      "cell_type": "markdown",
      "source": [
        "#       **`Data Types and Structures Questions`**\n"
      ],
      "metadata": {
        "id": "-4a_0MKzdD-r"
      }
    },
    {
      "cell_type": "markdown",
      "source": [
        "**Qno.1. What are data structures, and why are they important.**\n",
        "\n",
        "-Data structures are specialized formats for organizing, storing, and accessing collections of data. They provide efficient ways to manage information based on its characteristics and intended use.\n",
        "Think of them as containers that hold your data and determine how you can interact with it. Different containers are better suited for different types of items.\n",
        "\n",
        "Why are they important?\n",
        "\n",
        "Choosing the right data structure significantly impacts the efficiency and performance of your program.\n",
        "Well-chosen data structures can:\n",
        "Simplify data manipulation (adding, removing, modifying elements)\n",
        "Optimize searching and sorting operations\n",
        "Conserve memory usage.\n",
        "\n",
        "**Qno.2.Explain the difference between mutable and immutable data types with examples.**\n",
        "\n",
        "-Mutable Data Types:\n",
        "\n",
        "Can be changed after creation.\n",
        "\n",
        "Example:\n"
      ],
      "metadata": {
        "id": "K8W22gALzJY7"
      }
    },
    {
      "cell_type": "code",
      "source": [
        "my_list = [1, 2, 3]\n",
        "my_list.append(4)  # Now it's [1, 2, 3, 4]\n"
      ],
      "metadata": {
        "id": "IOtiJL3K2K8r"
      },
      "execution_count": null,
      "outputs": []
    },
    {
      "cell_type": "markdown",
      "source": [
        "Immutable Data Types:\n",
        "\n",
        "Cannot be changed after creation.\n",
        "\n",
        "Example:"
      ],
      "metadata": {
        "id": "eJ93H8Pz2Mys"
      }
    },
    {
      "cell_type": "code",
      "source": [
        "my_string = \"hello\"\n",
        "my_string[0] = \"H\"  # ❌ Error: strings are immutable\n"
      ],
      "metadata": {
        "id": "iIecQ-Uo2WE4"
      },
      "execution_count": null,
      "outputs": []
    },
    {
      "cell_type": "markdown",
      "source": [
        "Summary:\n",
        "Mutable: list, dict, set\n",
        "\n",
        "Immutable: int, float, str, tuple, bool"
      ],
      "metadata": {
        "id": "7qZf47cp2aRR"
      }
    },
    {
      "cell_type": "markdown",
      "source": [
        "**Qno.3.What are the main differences between lists and tuples in Python?**\n",
        "\n",
        " -Main Differences Between Lists and Tuples in Python:\n",
        "\n",
        "Feature\t              List\t                          Tuple\n",
        "\n",
        "1.Mutability\t    Mutable (can change)\t          Immutable (cannot change)\n",
        "\n",
        "2.Syntax\t            [1, 2, 3]                           \t(1, 2, 3)\n",
        "\n",
        "3.Methods\tMany     (like append())               \tFewer built-in methods\n",
        "\n",
        "4.Speed\t                Slower                            \tFaster\n",
        "\n",
        "5.Use Case\t           Dynamic data\tFixed,               constant data"
      ],
      "metadata": {
        "id": "vYz_VL1K4-4g"
      }
    },
    {
      "cell_type": "code",
      "source": [
        "my_list = [1, 2, 3]\n",
        "my_list.append(4)      # ✅ Works\n",
        "\n",
        "my_tuple = (1, 2, 3)\n",
        "my_tuple[0] = 10        # ❌ Error: Tuples are immutable\n"
      ],
      "metadata": {
        "id": "voHWb0zORdbc"
      },
      "execution_count": null,
      "outputs": []
    },
    {
      "cell_type": "markdown",
      "source": [
        "**Qno.4.Describe how dictionaries store data.**\n",
        "\n",
        "- Dictionaries store data as key-value pairs.\n",
        "Example:"
      ],
      "metadata": {
        "id": "mlHIN7PfSUA8"
      }
    },
    {
      "cell_type": "code",
      "source": [
        "my_dict = {\"name\": \"Alice\", \"age\": 25}\n"
      ],
      "metadata": {
        "id": "z3UI8hEwStra"
      },
      "execution_count": null,
      "outputs": []
    },
    {
      "cell_type": "markdown",
      "source": [
        "Keys are unique and used to access the values.\n",
        "\n",
        "Under the hood, dictionaries use a hash table, which allows fast lookups."
      ],
      "metadata": {
        "id": "hYq7qTjsSuwz"
      }
    },
    {
      "cell_type": "markdown",
      "source": [
        "Structure:"
      ],
      "metadata": {
        "id": "rW3yrT8aS4Un"
      }
    },
    {
      "cell_type": "code",
      "source": [
        "{\n",
        "  key1: value1,\n",
        "  key2: value2,\n",
        "  ...\n",
        "}"
      ],
      "metadata": {
        "id": "IOJyVB1wS0B-"
      },
      "execution_count": null,
      "outputs": []
    },
    {
      "cell_type": "markdown",
      "source": [
        "Example:"
      ],
      "metadata": {
        "id": "7atRSn9bTA2A"
      }
    },
    {
      "cell_type": "code",
      "source": [
        "person = {\"name\": \"John\", \"age\": 30}\n",
        "print(person[\"name\"])  # Output: John\n"
      ],
      "metadata": {
        "id": "9lKrl-h1TED8"
      },
      "execution_count": null,
      "outputs": []
    },
    {
      "cell_type": "markdown",
      "source": [
        "**Qno.5. Why might you use a set instead of a list in Python.**\n",
        "\n",
        "-might use a set instead of a list in Python for these key reasons:\n",
        "\n",
        "1. No Duplicates:\n",
        "Sets automatically remove duplicate values.\n"
      ],
      "metadata": {
        "id": "BYgLPYiATKmJ"
      }
    },
    {
      "cell_type": "code",
      "source": [
        "my_set = {1, 2, 2, 3}  # Result: {1, 2, 3}\n"
      ],
      "metadata": {
        "id": "cMcntjIpTpwj"
      },
      "execution_count": null,
      "outputs": []
    },
    {
      "cell_type": "markdown",
      "source": [
        " 2. Faster Membership Checking:\n",
        "\n",
        " Checking if an item exists is faster in sets than in lists."
      ],
      "metadata": {
        "id": "bgSnvrohTr6I"
      }
    },
    {
      "cell_type": "code",
      "source": [
        "3 in my_set  # Fast\n"
      ],
      "metadata": {
        "id": "hM6n5KbGTvr2"
      },
      "execution_count": null,
      "outputs": []
    },
    {
      "cell_type": "markdown",
      "source": [
        "3. Set Operations:\n",
        "\n",
        "Sets support useful math-like operations (union, intersection, difference).\n"
      ],
      "metadata": {
        "id": "_f6ua4VXT81c"
      }
    },
    {
      "cell_type": "code",
      "source": [
        "a = {1, 2, 3}\n",
        "b = {3, 4, 5}\n",
        "print(a & b)  # Output: {3}\n"
      ],
      "metadata": {
        "id": "Pcc5kydpUF0i"
      },
      "execution_count": null,
      "outputs": []
    },
    {
      "cell_type": "markdown",
      "source": [
        "**Qno.6 What is a string in Python, and how is it different from a list.**\n",
        "-What is a String in Python?\n",
        "\n",
        "A string is a sequence of characters enclosed in quotes:\n",
        "my_string = \"Hello\"\n",
        " Difference Between a String and a List:\n",
        "Feature\t         String\t                   List\n",
        "1.Data Type \tText (characters)\t    Any data types (mixed)\n",
        "2.Mutable?\t Immutable (can't change)\t Mutable (can change)\n",
        "3.Syntax\t\"Hello\" or 'Hello'\t [\"H\", \"e\", \"l\", \"l\", \"o\"]\n",
        "4.Use Case\t For working with text For storing a collection\n",
        "\n",
        "Example:\n",
        "s = \"hello\"\n",
        "l = [\"h\", \"e\", \"l\", \"l\", \"o\"]\n",
        "\n",
        "print(s[0])  # 'h'\n",
        "print(l[0])  # 'h'\n",
        "\n",
        "s[0] = \"H\"   #  Error: strings are immutable\n",
        "l[0] = \"H\"   # Works: lists are mutable"
      ],
      "metadata": {
        "id": "AxxF86T0UHB_"
      }
    },
    {
      "cell_type": "markdown",
      "source": [
        "**Qno.7.How do tuples ensure data integrity in Python.**\n",
        "\n",
        "-How Tuples Ensure Data Integrity in Python:\n",
        "Tuples are immutable, meaning their values cannot be changed after creation.\n",
        "\n",
        " This helps ensure data integrity by:\n",
        "\n",
        "1.Preventing accidental changes\n",
        "\n",
        "Once a tuple is created, its data stays the same.\n"
      ],
      "metadata": {
        "id": "eUaLkYXCVkDh"
      }
    },
    {
      "cell_type": "code",
      "source": [
        "coords = (10, 20)\n",
        "coords[0] = 15  #  Error!\n"
      ],
      "metadata": {
        "id": "OJMEK9HzWCFu"
      },
      "execution_count": null,
      "outputs": []
    },
    {
      "cell_type": "markdown",
      "source": [
        "2.Safe for use as keys in dictionaries or elements in sets\n",
        "\n",
        "Since they can’t change, tuples can be used where a fixed, hashable value is required.\n"
      ],
      "metadata": {
        "id": "DdrCZ4gwWC53"
      }
    },
    {
      "cell_type": "code",
      "source": [
        "locations = {(10, 20): \"Park\"}  #  Valid\n"
      ],
      "metadata": {
        "id": "Y6X4FcDsWZq9"
      },
      "execution_count": null,
      "outputs": []
    },
    {
      "cell_type": "markdown",
      "source": [
        "3.Good for storing constant or fixed data\n",
        "Ideal for data that shouldn't be modified, like dates, coordinates, config values, etc."
      ],
      "metadata": {
        "id": "CpKGR-aUWeCL"
      }
    },
    {
      "cell_type": "markdown",
      "source": [
        "**Qno.8.What is a hash table, and how does it relate to dictionaries in Python.**\n",
        "\n",
        "-A hash table is a data structure that stores data in key-value pairs and uses a hash function to map keys to their associated values quickly.\n",
        "\n",
        " How It Relates to Dictionaries in Python:\n",
        "Python dictionaries are built using hash tables.\n",
        "\n",
        "When you use a key in a dictionary, Python:\n",
        "\n",
        "Hashes the key (using a hash function),\n",
        "\n",
        "Finds the location in memory,\n",
        "\n",
        "Stores or retrieves the value efficiently.\n",
        "\n",
        " Benefits:\n",
        "Fast lookups, insertions, and deletions (on average O(1) time).\n",
        "\n",
        "Keys must be hashable (immutable types like strings, numbers, and tuples).\n",
        "\n"
      ],
      "metadata": {
        "id": "cfbDoSKgWibg"
      }
    },
    {
      "cell_type": "code",
      "source": [
        "my_dict = {\"apple\": 1, \"banana\": 2}\n",
        "print(my_dict[\"apple\"])  # Fast lookup using hash table\n"
      ],
      "metadata": {
        "id": "0zqiwsAwXWnW"
      },
      "execution_count": null,
      "outputs": []
    },
    {
      "cell_type": "markdown",
      "source": [
        "**Qno.9.Can lists contain different data types in Python.**\n",
        "\n",
        "-Yes, lists in Python can contain different data types.\n",
        "Python lists are heterogeneous, meaning they can store a mix of data types in a single list.\n",
        "\n",
        " Example:"
      ],
      "metadata": {
        "id": "Uem9uJJlXbF4"
      }
    },
    {
      "cell_type": "code",
      "source": [
        "my_list = [1, \"hello\", 3.14, True, [2, 3], {\"a\": 1}]\n",
        "print(my_list)\n"
      ],
      "metadata": {
        "id": "E2CanUc0XxwV"
      },
      "execution_count": null,
      "outputs": []
    },
    {
      "cell_type": "markdown",
      "source": [
        "**Qno.10.Explain why strings are immutable in Python.**\n",
        "\n",
        "-Why Strings Are Immutable in Python:\n",
        "Strings are immutable in Python, meaning once created, they cannot be changed.\n",
        "\n",
        " Reasons Why:\n",
        "Efficiency:\n",
        "Immutable objects can be stored and reused safely (e.g., in memory optimization and caching).\n",
        "\n",
        "Hashing:\n",
        "Strings are used as dictionary keys and must be hashable — which requires immutability.\n",
        "\n",
        "Safety:\n",
        "Prevents accidental changes in your code, especially when passing strings between functions.\n",
        "\n"
      ],
      "metadata": {
        "id": "GqSJAEaOX0xF"
      }
    },
    {
      "cell_type": "markdown",
      "source": [
        "**Qno.11.What advantages do dictionaries offer over lists for certain tasks.**\n",
        "\n",
        "-Dictionaries allow fast access using keys.\n",
        "\n",
        "They store data as key-value pairs, making it more readable.\n",
        "\n",
        "Keys are unique, helping avoid duplicates.\n",
        "\n",
        "Better for structured data where each item has a label.\n",
        "\n",
        "Lists are slower for lookups and use index-based access only."
      ],
      "metadata": {
        "id": "nYXETAhTYJFd"
      }
    },
    {
      "cell_type": "markdown",
      "source": [
        "**Qno.12.Describe a scenario where using a tuple would be preferable over a list.**\n",
        "\n",
        "-Scenario: Using Coordinates in a Map App\n",
        "If you're storing fixed (latitude, longitude) coordinates for locations:"
      ],
      "metadata": {
        "id": "cLKnELRbZFWT"
      }
    },
    {
      "cell_type": "code",
      "source": [
        "location = (40.7128, -74.0060)  # New York City\n"
      ],
      "metadata": {
        "id": "HHYOvRrJZZug"
      },
      "execution_count": null,
      "outputs": []
    },
    {
      "cell_type": "markdown",
      "source": [
        "Why a tuple is better:\n",
        "\n",
        "The data is fixed and should not change.\n",
        "\n",
        "Tuples are immutable, ensuring data integrity.\n",
        "\n",
        "They are faster and use less memory than lists."
      ],
      "metadata": {
        "id": "ty8dbxlOZcO5"
      }
    },
    {
      "cell_type": "markdown",
      "source": [
        "**Qno.13.How do sets handle duplicate values in Python.**\n",
        "\n",
        "-How Sets Handle Duplicates in Python:\n",
        "Sets automatically remove duplicate values.\n",
        "\n",
        "When you create a set, only unique elements are kept.\n",
        "\n",
        "Example:"
      ],
      "metadata": {
        "id": "kg9BlXM5ZhWw"
      }
    },
    {
      "cell_type": "code",
      "source": [
        "my_set = {1, 2, 2, 3, 3, 3}\n",
        "print(my_set)  # Output: {1, 2, 3}\n"
      ],
      "metadata": {
        "id": "D0EpNlYwZ9bd"
      },
      "execution_count": null,
      "outputs": []
    },
    {
      "cell_type": "markdown",
      "source": [
        "Summary:\n",
        "\n",
        "Sets ignore duplicates.\n",
        "\n",
        "They are perfect for storing unique items only."
      ],
      "metadata": {
        "id": "_DS1ucazZ_e8"
      }
    },
    {
      "cell_type": "markdown",
      "source": [
        "**Qno.14.How does the “in” keyword work differently for lists and dictionaries.**\n",
        "\n",
        "-In lists, in checks if a value exists.\n",
        "\n",
        "In dictionaries, in checks if a key exists.\n",
        "\n",
        "It does not check values in a dictionary.\n",
        "\n",
        "Example:\n",
        "\n",
        "2 in [1, 2, 3] → True\n",
        "\n",
        "'name' in {'name': 'Alice'} → True\n",
        "\n",
        "'Alice' in {'name': 'Alice'} → False"
      ],
      "metadata": {
        "id": "DONIeBWzaGkC"
      }
    },
    {
      "cell_type": "markdown",
      "source": [
        "**Qno.15.Can you modify the elements of a tuple? Explain why or why not.**\n",
        "\n",
        "- No, ywe cannot modify the elements of a tuple.\n",
        "\n",
        " Why?\n",
        "Tuples are immutable in Python.\n",
        "\n",
        "Once created, their elements cannot be changed, added, or removed.\n",
        "\n",
        "This helps ensure data integrity and allows tuples to be used as dictionary keys.\n",
        "\n",
        " Example:"
      ],
      "metadata": {
        "id": "n9ISL8Z0auKB"
      }
    },
    {
      "cell_type": "code",
      "source": [
        "t = (1, 2, 3)\n",
        "t[0] = 10  #  Error: 'tuple' object does not support item assignment\n"
      ],
      "metadata": {
        "id": "DQYZ9gPhbE2O"
      },
      "execution_count": null,
      "outputs": []
    },
    {
      "cell_type": "markdown",
      "source": [
        "**Qno.16. What is a nested dictionary, and give an example of its use case.**\n",
        "\n",
        "-A nested dictionary is a dictionary inside another dictionary.\n",
        "\n",
        "Example:"
      ],
      "metadata": {
        "id": "CCyYEh5IbHww"
      }
    },
    {
      "cell_type": "code",
      "source": [
        "students = {\n",
        "    \"Alice\": {\"age\": 20, \"grade\": \"A\"},\n",
        "    \"Bob\": {\"age\": 22, \"grade\": \"B\"}\n",
        "}\n"
      ],
      "metadata": {
        "id": "tX64mK2xbcOg"
      },
      "execution_count": null,
      "outputs": []
    },
    {
      "cell_type": "markdown",
      "source": [
        "Use Case:\n",
        "\n",
        "Used to store complex or grouped data, like:\n",
        "\n",
        "Student records\n",
        "\n",
        "User profiles\n",
        "\n",
        "Product details in an inventory system"
      ],
      "metadata": {
        "id": "pqP_q-9tbevm"
      }
    },
    {
      "cell_type": "markdown",
      "source": [
        "**Qno.17.Describe the time complexity of accessing elements in a dictionary.**\n",
        "\n",
        "-Time Complexity of Accessing Elements in a Dictionary:\n",
        "Average Case: O(1) → Constant time (very fast)\n",
        "\n",
        "Worst Case: O(n) → Rare, happens if there's a lot of hash collisions\n",
        "\n",
        " Why so fast?\n",
        "Dictionaries use a hash table, allowing direct access to values using their keys.\n",
        "\n",
        " Example:"
      ],
      "metadata": {
        "id": "-wyToDSUbj8E"
      }
    },
    {
      "cell_type": "code",
      "source": [
        "my_dict = {\"a\": 1, \"b\": 2}\n",
        "print(my_dict[\"b\"])  # Access in O(1) time\n"
      ],
      "metadata": {
        "id": "m_Vq5KGNb4IF"
      },
      "execution_count": null,
      "outputs": []
    },
    {
      "cell_type": "markdown",
      "source": [
        "**Qno.18.In what situations are lists preferred over dictionaries.**\n",
        "\n",
        "-Situations Where Lists Are Preferred Over Dictionaries:\n",
        "Order matters (lists keep item order by position).\n",
        "\n",
        "You need to store items without key-value pairs.\n",
        "\n",
        "When index-based access is needed (e.g., list[0]).\n",
        "\n",
        "You want to preserve duplicates.\n",
        "\n",
        "Ideal for simple sequences like numbers, names, etc.\n",
        "\n",
        " Example:"
      ],
      "metadata": {
        "id": "4Mc_Vg5Gb6wT"
      }
    },
    {
      "cell_type": "code",
      "source": [
        "fruits = [\"apple\", \"banana\", \"cherry\"]\n",
        "print(fruits[1])  # Output: banana\n"
      ],
      "metadata": {
        "id": "ZB1PV3hrcKSx"
      },
      "execution_count": null,
      "outputs": []
    },
    {
      "cell_type": "markdown",
      "source": [
        "**Qno.19.Why are dictionaries considered unordered, and how does that affect data retrieval.**\n",
        "\n",
        "- Why Dictionaries Were Considered Unordered:\n",
        "\n",
        "In older versions of Python (before 3.7), dictionaries did not maintain insertion order.\n",
        "\n",
        "Items were stored based on hash values, not position.\n",
        "\n",
        " How It Affects Data Retrieval:\n",
        "\n",
        "Retrieval by key is fast (O(1)) and not affected by order.\n",
        "\n",
        "You cannot access items by position like you do with lists.\n",
        "\n",
        " Since Python 3.7+:\n",
        "\n",
        "Dictionaries preserve insertion order, but they’re still accessed by keys, not positions.\n",
        "\n",
        " Example:"
      ],
      "metadata": {
        "id": "d_P78C2icQOG"
      }
    },
    {
      "cell_type": "code",
      "source": [
        "my_dict = {\"a\": 1, \"b\": 2, \"c\": 3}\n",
        "print(my_dict[\"b\"])  # Access by key, not order\n"
      ],
      "metadata": {
        "id": "pXLfx1UyckVQ"
      },
      "execution_count": null,
      "outputs": []
    },
    {
      "cell_type": "markdown",
      "source": [
        "**Qno.20.Explain the difference between a list and a dictionary in terms of data retrieval.**\n",
        "\n",
        "- Difference Between List and Dictionary (Data Retrieval):\n",
        "\n",
        "List:\n",
        "\n",
        "Access data by index (position).\n",
        "\n",
        "Example: my_list[0]\n",
        "\n",
        "Slower lookup if searching for a value → O(n)\n",
        "\n",
        "Dictionary:\n",
        "\n",
        "Access data by key (name/label).\n",
        "\n",
        "Example: my_dict[\"name\"]\n",
        "\n",
        "Very fast lookup by key → O(1) (average case)"
      ],
      "metadata": {
        "id": "3QQ4HDtDcm_T"
      }
    },
    {
      "cell_type": "markdown",
      "source": [
        "# Practical Questions"
      ],
      "metadata": {
        "id": "l6EO4_eedhrv"
      }
    },
    {
      "cell_type": "markdown",
      "source": [
        "1.Write a code to create a string with your name and print it."
      ],
      "metadata": {
        "id": "bQNMSRSydocn"
      }
    },
    {
      "cell_type": "code",
      "source": [
        "name=\"muzamil\"\n",
        "print(name)"
      ],
      "metadata": {
        "colab": {
          "base_uri": "https://localhost:8080/"
        },
        "id": "fT2d6N2jd7q0",
        "outputId": "a8ec7588-5481-408f-d723-234c567716ae"
      },
      "execution_count": null,
      "outputs": [
        {
          "output_type": "stream",
          "name": "stdout",
          "text": [
            "muzamil\n"
          ]
        }
      ]
    },
    {
      "cell_type": "markdown",
      "source": [
        "2.Write a code to find the length of the string \"Hello World\""
      ],
      "metadata": {
        "id": "yyaF5niVeVdR"
      }
    },
    {
      "cell_type": "code",
      "source": [
        "len(\"hello world\")"
      ],
      "metadata": {
        "colab": {
          "base_uri": "https://localhost:8080/"
        },
        "id": "EeF3flhGecSS",
        "outputId": "a907e2fe-c6c8-4e17-c306-32e920cc45da"
      },
      "execution_count": null,
      "outputs": [
        {
          "output_type": "execute_result",
          "data": {
            "text/plain": [
              "11"
            ]
          },
          "metadata": {},
          "execution_count": 3
        }
      ]
    },
    {
      "cell_type": "markdown",
      "source": [
        "3.Write a code to slice the first 3 characters from the string \"Python Programming\""
      ],
      "metadata": {
        "id": "8u_35TnAe0oK"
      }
    },
    {
      "cell_type": "code",
      "source": [
        "text=\"Python Programming\"\n",
        "text[:3]"
      ],
      "metadata": {
        "colab": {
          "base_uri": "https://localhost:8080/",
          "height": 35
        },
        "id": "Dyor7_nxe4NA",
        "outputId": "216ac530-1e42-4884-a9a3-18cf55b0e1b2"
      },
      "execution_count": null,
      "outputs": [
        {
          "output_type": "execute_result",
          "data": {
            "text/plain": [
              "'Pyt'"
            ],
            "application/vnd.google.colaboratory.intrinsic+json": {
              "type": "string"
            }
          },
          "metadata": {},
          "execution_count": 5
        }
      ]
    },
    {
      "cell_type": "markdown",
      "source": [
        "4.Write a code to convert the string \"hello\" to uppercase."
      ],
      "metadata": {
        "id": "ANHUI17OfrZU"
      }
    },
    {
      "cell_type": "code",
      "source": [
        "text=(\"hello\")\n",
        "text.upper()"
      ],
      "metadata": {
        "colab": {
          "base_uri": "https://localhost:8080/",
          "height": 35
        },
        "id": "Pkk6GyWqfxs1",
        "outputId": "f1c5289b-da56-46a2-e51c-76f5042752f9"
      },
      "execution_count": null,
      "outputs": [
        {
          "output_type": "execute_result",
          "data": {
            "text/plain": [
              "'HELLO'"
            ],
            "application/vnd.google.colaboratory.intrinsic+json": {
              "type": "string"
            }
          },
          "metadata": {},
          "execution_count": 10
        }
      ]
    },
    {
      "cell_type": "markdown",
      "source": [
        "5.Write a code to replace the word \"apple\" with \"orange\" in the string \"I like apple\"."
      ],
      "metadata": {
        "id": "Ap3Y6JBygnLX"
      }
    },
    {
      "cell_type": "code",
      "source": [
        "text=\"i like apple\"\n",
        "text.replace(\"apple\",\"orange\")"
      ],
      "metadata": {
        "colab": {
          "base_uri": "https://localhost:8080/",
          "height": 35
        },
        "id": "qBxrO3SWgJxA",
        "outputId": "f9ec7134-5ba1-4271-9313-52bba1e10b75"
      },
      "execution_count": null,
      "outputs": [
        {
          "output_type": "execute_result",
          "data": {
            "text/plain": [
              "'i like orange'"
            ],
            "application/vnd.google.colaboratory.intrinsic+json": {
              "type": "string"
            }
          },
          "metadata": {},
          "execution_count": 13
        }
      ]
    },
    {
      "cell_type": "markdown",
      "source": [
        "6.Write a code to create a list with numbers 1 to 5 and print it."
      ],
      "metadata": {
        "id": "MnUPBAqaiFD_"
      }
    },
    {
      "cell_type": "code",
      "source": [
        "num=[1,2,3,4,5]\n",
        "print(num)"
      ],
      "metadata": {
        "colab": {
          "base_uri": "https://localhost:8080/"
        },
        "id": "wNic0tqyiKtF",
        "outputId": "0f6b7942-efc5-4ca2-a318-81acae1b7910"
      },
      "execution_count": null,
      "outputs": [
        {
          "output_type": "stream",
          "name": "stdout",
          "text": [
            "[1, 2, 3, 4, 5]\n"
          ]
        }
      ]
    },
    {
      "cell_type": "code",
      "source": [
        "7.Write a code to append the number 10 to the list [1, 2, 3, 4]."
      ],
      "metadata": {
        "id": "OU5_KMTDiU6I"
      },
      "execution_count": null,
      "outputs": []
    },
    {
      "cell_type": "code",
      "source": [
        "lis=[1,2,3,4]\n",
        "lis.append(10)\n",
        "print(lis)\n"
      ],
      "metadata": {
        "colab": {
          "base_uri": "https://localhost:8080/"
        },
        "id": "5i1CorASipyl",
        "outputId": "d209bd9e-d93a-481f-b2e4-b79002693ac5"
      },
      "execution_count": null,
      "outputs": [
        {
          "output_type": "stream",
          "name": "stdout",
          "text": [
            "[1, 2, 3, 4, 10]\n"
          ]
        }
      ]
    },
    {
      "cell_type": "markdown",
      "source": [
        "8.Write a code to remove the number 3 from the list [1, 2, 3, 4, 5]"
      ],
      "metadata": {
        "id": "IunOta1ejUfE"
      }
    },
    {
      "cell_type": "code",
      "source": [
        "numbers=[1, 2, 3, 4, 5]\n",
        "numbers.remove(3)\n",
        "print(numbers)"
      ],
      "metadata": {
        "colab": {
          "base_uri": "https://localhost:8080/"
        },
        "id": "AVT_s2sci_EL",
        "outputId": "253092be-4756-449a-fe52-b240eaf6e3ee"
      },
      "execution_count": null,
      "outputs": [
        {
          "output_type": "stream",
          "name": "stdout",
          "text": [
            "[1, 2, 4, 5]\n"
          ]
        }
      ]
    },
    {
      "cell_type": "markdown",
      "source": [
        "9.Write a code to access the second element in the list ['a', 'b', 'c', 'd']"
      ],
      "metadata": {
        "id": "TSxJf_VGj0dv"
      }
    },
    {
      "cell_type": "code",
      "source": [
        "lis=['a', 'b', 'c', 'd']\n",
        "second_element=lis[1]\n",
        "print(second_element)"
      ],
      "metadata": {
        "colab": {
          "base_uri": "https://localhost:8080/"
        },
        "id": "-kpHyKFPjrM5",
        "outputId": "8d3c9736-5942-475c-f05a-359dbbd1f5f1"
      },
      "execution_count": null,
      "outputs": [
        {
          "output_type": "stream",
          "name": "stdout",
          "text": [
            "b\n"
          ]
        }
      ]
    },
    {
      "cell_type": "markdown",
      "source": [
        "10.Write a code to reverse the list [10, 20, 30, 40, 50]."
      ],
      "metadata": {
        "id": "wPyXBfjnlD1p"
      }
    },
    {
      "cell_type": "code",
      "source": [
        "numbers=[10, 20, 30, 40, 50]\n",
        "numbers.reverse()\n",
        "print(numbers)"
      ],
      "metadata": {
        "colab": {
          "base_uri": "https://localhost:8080/"
        },
        "id": "rdPqxxZ_kIt5",
        "outputId": "e2fb2b38-7bab-4dde-a8e8-a247ba92eb8f"
      },
      "execution_count": null,
      "outputs": [
        {
          "output_type": "stream",
          "name": "stdout",
          "text": [
            "[50, 40, 30, 20, 10]\n"
          ]
        }
      ]
    },
    {
      "cell_type": "markdown",
      "source": [
        "11.Write a code to create a tuple with the elements 100, 200, 300 and print it."
      ],
      "metadata": {
        "id": "mZbT6168mxvI"
      }
    },
    {
      "cell_type": "code",
      "source": [
        "tuple=(100,200,300)\n",
        "print(tuple)"
      ],
      "metadata": {
        "id": "IjlGPju2lbl3",
        "colab": {
          "base_uri": "https://localhost:8080/"
        },
        "outputId": "588e08e7-8654-45f6-cd81-5e881df50a38"
      },
      "execution_count": null,
      "outputs": [
        {
          "output_type": "stream",
          "name": "stdout",
          "text": [
            "(100, 200, 300)\n"
          ]
        }
      ]
    },
    {
      "cell_type": "markdown",
      "source": [
        "12.Write a code to access the second-to-last element of the tuple ('red', 'green', 'blue', 'yellow')."
      ],
      "metadata": {
        "id": "t41zo9MKnQzD"
      }
    },
    {
      "cell_type": "code",
      "source": [
        "my_tuple=('red', 'green', 'blue', 'yellow')\n",
        "my_tuple[-2]"
      ],
      "metadata": {
        "colab": {
          "base_uri": "https://localhost:8080/",
          "height": 35
        },
        "id": "LNz9JjG7nJsA",
        "outputId": "df1e89f3-95c3-43ac-ede4-b2992a70ec89"
      },
      "execution_count": null,
      "outputs": [
        {
          "output_type": "execute_result",
          "data": {
            "text/plain": [
              "'blue'"
            ],
            "application/vnd.google.colaboratory.intrinsic+json": {
              "type": "string"
            }
          },
          "metadata": {},
          "execution_count": 35
        }
      ]
    },
    {
      "cell_type": "markdown",
      "source": [
        "13. Write a code to find the minimum number in the tuple (10, 20, 5, 15)."
      ],
      "metadata": {
        "id": "dzMLPMy7oZRb"
      }
    },
    {
      "cell_type": "code",
      "source": [
        "numbers=(10, 20, 5, 15)\n",
        "min(numbers)"
      ],
      "metadata": {
        "colab": {
          "base_uri": "https://localhost:8080/"
        },
        "id": "Oy24m5Sln3iI",
        "outputId": "7ae4c9ce-b142-4275-ab9d-91f318a15a4c"
      },
      "execution_count": null,
      "outputs": [
        {
          "output_type": "execute_result",
          "data": {
            "text/plain": [
              "5"
            ]
          },
          "metadata": {},
          "execution_count": 37
        }
      ]
    },
    {
      "cell_type": "markdown",
      "source": [
        "14.Write a code to find the index of the element \"cat\" in the tuple ('dog', 'cat', 'rabbit')."
      ],
      "metadata": {
        "id": "tGjKAh75o05s"
      }
    },
    {
      "cell_type": "code",
      "source": [
        "my_tuple=('dog', 'cat', 'rabbit')\n",
        "my_tuple.index('cat')\n"
      ],
      "metadata": {
        "colab": {
          "base_uri": "https://localhost:8080/"
        },
        "id": "zVAmfbSNoogU",
        "outputId": "3da91e4b-ec59-424e-e948-67c4e912de22"
      },
      "execution_count": null,
      "outputs": [
        {
          "output_type": "execute_result",
          "data": {
            "text/plain": [
              "1"
            ]
          },
          "metadata": {},
          "execution_count": 41
        }
      ]
    },
    {
      "cell_type": "markdown",
      "source": [
        "15. Write a code to create a tuple containing three different fruits and check if \"kiwi\" is in it"
      ],
      "metadata": {
        "id": "4jTdxdQmqLa9"
      }
    },
    {
      "cell_type": "code",
      "source": [
        "fruits = (\"apple\", \"banana\", \"orange\")\n",
        "if \"kiwi\" in fruits:\n",
        "    print(\"Kiwi is in the tuple.\")\n",
        "else:\n",
        "    print(\"Kiwi is not in the tuple.\")\n"
      ],
      "metadata": {
        "colab": {
          "base_uri": "https://localhost:8080/"
        },
        "id": "9fVlvGdipO7t",
        "outputId": "390efd17-d34e-4108-e06f-a77e2e7bf2cf"
      },
      "execution_count": null,
      "outputs": [
        {
          "output_type": "stream",
          "name": "stdout",
          "text": [
            "Kiwi is not in the tuple.\n"
          ]
        }
      ]
    },
    {
      "cell_type": "markdown",
      "source": [
        "16.Write a code to create a set with the elements 'a', 'b', 'c' and print it."
      ],
      "metadata": {
        "id": "Oh6x8jyFT2B0"
      }
    },
    {
      "cell_type": "code",
      "source": [
        "elements={'a','b','c'}\n",
        "print(elements)"
      ],
      "metadata": {
        "colab": {
          "base_uri": "https://localhost:8080/"
        },
        "id": "djerEl8lTvvY",
        "outputId": "bfa6fa37-a48a-462e-f504-310f1dc691f8"
      },
      "execution_count": null,
      "outputs": [
        {
          "output_type": "stream",
          "name": "stdout",
          "text": [
            "{'b', 'a', 'c'}\n"
          ]
        }
      ]
    },
    {
      "cell_type": "code",
      "source": [
        "type(elements)"
      ],
      "metadata": {
        "colab": {
          "base_uri": "https://localhost:8080/"
        },
        "id": "8DnUhNswUXRu",
        "outputId": "0cc8c0ff-ce27-4de0-d24c-4384f06a63cb"
      },
      "execution_count": null,
      "outputs": [
        {
          "output_type": "execute_result",
          "data": {
            "text/plain": [
              "set"
            ]
          },
          "metadata": {},
          "execution_count": 3
        }
      ]
    },
    {
      "cell_type": "markdown",
      "source": [
        "17.. Write a code to clear all elements from the set {1, 2, 3, 4, 5}."
      ],
      "metadata": {
        "id": "-LeTKileUiQy"
      }
    },
    {
      "cell_type": "code",
      "source": [
        "set= {1, 2, 3, 4, 5}\n",
        "set.clear()\n",
        "set"
      ],
      "metadata": {
        "colab": {
          "base_uri": "https://localhost:8080/"
        },
        "id": "usTBG2f7Ud_E",
        "outputId": "311e046e-db12-44b6-9dc5-8818134ac617"
      },
      "execution_count": null,
      "outputs": [
        {
          "output_type": "execute_result",
          "data": {
            "text/plain": [
              "set()"
            ]
          },
          "metadata": {},
          "execution_count": 5
        }
      ]
    },
    {
      "cell_type": "markdown",
      "source": [
        "18.Write a code to remove the element 4 from the set {1, 2, 3, 4}."
      ],
      "metadata": {
        "id": "SzJJhiaIVC3Q"
      }
    },
    {
      "cell_type": "code",
      "source": [
        "set={1, 2, 3, 4}\n",
        "set.remove(4)\n",
        "print(set)"
      ],
      "metadata": {
        "colab": {
          "base_uri": "https://localhost:8080/"
        },
        "id": "7fpv80auU0M0",
        "outputId": "30d39763-7e2a-4264-d4f9-9e685cac498a"
      },
      "execution_count": null,
      "outputs": [
        {
          "output_type": "stream",
          "name": "stdout",
          "text": [
            "{1, 2, 3}\n"
          ]
        }
      ]
    },
    {
      "cell_type": "markdown",
      "source": [
        "19. Write a code to find the union of two sets {1, 2, 3} and {3, 4, 5}"
      ],
      "metadata": {
        "id": "X1b3y0kLV-A-"
      }
    },
    {
      "cell_type": "code",
      "source": [
        "set1={1, 2, 3}\n",
        "set2={3, 4, 5}\n",
        "set1.union(set2)"
      ],
      "metadata": {
        "colab": {
          "base_uri": "https://localhost:8080/"
        },
        "id": "KNVxUiOlVfW2",
        "outputId": "e79d3269-d53b-44ce-8821-9a60232104cc"
      },
      "execution_count": null,
      "outputs": [
        {
          "output_type": "execute_result",
          "data": {
            "text/plain": [
              "{1, 2, 3, 4, 5}"
            ]
          },
          "metadata": {},
          "execution_count": 9
        }
      ]
    },
    {
      "cell_type": "markdown",
      "source": [
        "20. Write a code to find the intersection of two sets {1, 2, 3} and {2, 3, 4}."
      ],
      "metadata": {
        "id": "d7AHiIpsW13q"
      }
    },
    {
      "cell_type": "code",
      "source": [
        "set1= {1, 2, 3}\n",
        "set2= {2, 3, 4}\n",
        "set1.intersection(set2)"
      ],
      "metadata": {
        "colab": {
          "base_uri": "https://localhost:8080/"
        },
        "id": "ut8aNYD-Wx_V",
        "outputId": "87e0f7e9-ceb2-41ef-86ec-3ddee39f27f3"
      },
      "execution_count": null,
      "outputs": [
        {
          "output_type": "execute_result",
          "data": {
            "text/plain": [
              "{2, 3}"
            ]
          },
          "metadata": {},
          "execution_count": 10
        }
      ]
    },
    {
      "cell_type": "markdown",
      "source": [
        "21. Write a code to create a dictionary with the keys \"name\", \"age\", and \"city\", and print it."
      ],
      "metadata": {
        "id": "aCmo-ULfXWZj"
      }
    },
    {
      "cell_type": "code",
      "source": [
        "person={\"name\":'muzamil',\"age\":22,\"city\":'shopian'}\n",
        "print(person)"
      ],
      "metadata": {
        "colab": {
          "base_uri": "https://localhost:8080/"
        },
        "id": "YzqkMLHVXPBN",
        "outputId": "a40dd009-cd2a-4410-8fb3-829ad16a8c7c"
      },
      "execution_count": null,
      "outputs": [
        {
          "output_type": "stream",
          "name": "stdout",
          "text": [
            "{'name': 'muzamil', 'age': 22, 'city': 'shopian'}\n"
          ]
        }
      ]
    },
    {
      "cell_type": "markdown",
      "source": [
        "22.Write a code to add a new key-value pair \"country\": \"USA\" to the dictionary {'name': 'John', 'age': 25}."
      ],
      "metadata": {
        "id": "gNUcWs_tYR_t"
      }
    },
    {
      "cell_type": "code",
      "source": [
        "person= {'name': 'John', 'age': 25}\n",
        "person['country']='usa'\n",
        "print(person)"
      ],
      "metadata": {
        "id": "ImHKrKfqX6Fa",
        "colab": {
          "base_uri": "https://localhost:8080/"
        },
        "outputId": "1f86e110-ace2-4626-af5e-ee65703ee7b2"
      },
      "execution_count": null,
      "outputs": [
        {
          "output_type": "stream",
          "name": "stdout",
          "text": [
            "{'name': 'John', 'age': 25, 'country': 'usa'}\n"
          ]
        }
      ]
    },
    {
      "cell_type": "markdown",
      "source": [
        "23. Write a code to access the value associated with the key \"name\" in the dictionary {'name': 'Alice', 'age': 30}."
      ],
      "metadata": {
        "id": "JsCCCeMPcges"
      }
    },
    {
      "cell_type": "code",
      "source": [
        "person={'name':'Alice','age':30}\n",
        "person['name']"
      ],
      "metadata": {
        "colab": {
          "base_uri": "https://localhost:8080/",
          "height": 35
        },
        "id": "HbayOymmcpaV",
        "outputId": "45baab3f-e1f4-4e6e-a626-3a98fad00839"
      },
      "execution_count": null,
      "outputs": [
        {
          "output_type": "execute_result",
          "data": {
            "text/plain": [
              "'Alice'"
            ],
            "application/vnd.google.colaboratory.intrinsic+json": {
              "type": "string"
            }
          },
          "metadata": {},
          "execution_count": 4
        }
      ]
    },
    {
      "cell_type": "markdown",
      "source": [
        " 24.Write a code to remove the key \"age\" from the dictionary {'name': 'Bob', 'age': 22, 'city': 'New York'}."
      ],
      "metadata": {
        "id": "VRZM1pL4d_QD"
      }
    },
    {
      "cell_type": "code",
      "source": [
        "person= {'name': 'Bob', 'age': 22, 'city': 'New York'}\n",
        "del person[\"age\"]\n",
        "print(person)"
      ],
      "metadata": {
        "colab": {
          "base_uri": "https://localhost:8080/"
        },
        "id": "TqfGRFkdcZuz",
        "outputId": "8be39063-612e-4105-be01-93f0a2661aa9"
      },
      "execution_count": null,
      "outputs": [
        {
          "output_type": "stream",
          "name": "stdout",
          "text": [
            "{'name': 'Bob', 'city': 'New York'}\n"
          ]
        }
      ]
    },
    {
      "cell_type": "markdown",
      "source": [
        "25. Write a code to check if the key \"city\" exists in the dictionary {'name': 'Alice', 'city': 'Paris'}."
      ],
      "metadata": {
        "id": "3ao1sB5Pf4C9"
      }
    },
    {
      "cell_type": "code",
      "source": [
        "person = {'name': 'Alice', 'city': 'Paris'}\n",
        "if \"city\" in person:\n",
        "    print(\"Key 'city' exists in the dictionary.\")\n",
        "else:\n",
        "    print(\"Key 'city' does not exist in the dictionary.\")\n"
      ],
      "metadata": {
        "colab": {
          "base_uri": "https://localhost:8080/"
        },
        "id": "QRL5iysPgwEt",
        "outputId": "745f7c42-9aca-4b15-aac2-ed3605f8c734"
      },
      "execution_count": null,
      "outputs": [
        {
          "output_type": "stream",
          "name": "stdout",
          "text": [
            "Key 'city' exists in the dictionary.\n"
          ]
        }
      ]
    },
    {
      "cell_type": "markdown",
      "source": [
        "26.. Write a code to create a list, a tuple, and a dictionary, and print them all."
      ],
      "metadata": {
        "id": "8Q3cgjFokTlk"
      }
    },
    {
      "cell_type": "code",
      "source": [
        "my_list=[1,2,1.1,'a','b',['a','b']]\n",
        "my_tuple=(1,3,'h',)\n",
        "my_dict={'name':'Muzamil','age':22,'city':'shopian'}\n",
        "print(my_list)\n",
        "print(my_tuple)\n",
        "print(my_dict)"
      ],
      "metadata": {
        "colab": {
          "base_uri": "https://localhost:8080/"
        },
        "id": "ZcCkyVtih2ON",
        "outputId": "2cf18c53-fe5a-4690-b50e-30cd325d866f"
      },
      "execution_count": null,
      "outputs": [
        {
          "output_type": "stream",
          "name": "stdout",
          "text": [
            "[1, 2, 1.1, 'a', 'b', ['a', 'b']]\n",
            "(1, 3, 'h')\n",
            "{'name': 'Muzamil', 'age': 22, 'city': 'shopian'}\n"
          ]
        }
      ]
    },
    {
      "cell_type": "markdown",
      "source": [
        "27. Write a code to create a list of 5 random numbers between 1 and 100, sort it in ascending order, and print the result.(replaced)"
      ],
      "metadata": {
        "id": "asV31jperKr1"
      }
    },
    {
      "cell_type": "code",
      "source": [
        "numbers=[45,34,76,89,22]\n",
        "numbers.sort()\n",
        "print(numbers)"
      ],
      "metadata": {
        "colab": {
          "base_uri": "https://localhost:8080/"
        },
        "id": "oYDcFgWOqCVS",
        "outputId": "0decab8f-60f7-460a-cdb2-530be92d98ae"
      },
      "execution_count": null,
      "outputs": [
        {
          "output_type": "stream",
          "name": "stdout",
          "text": [
            "[22, 34, 45, 76, 89]\n"
          ]
        }
      ]
    },
    {
      "cell_type": "markdown",
      "source": [
        "28.Write a code to create a list with strings and print the element at the third index."
      ],
      "metadata": {
        "id": "vqsqKmr2tBlQ"
      }
    },
    {
      "cell_type": "code",
      "source": [
        "my_list=[\"muzamil\",\"junaid\",\"muneeb\",\"apple\"]\n",
        "my_list[3]"
      ],
      "metadata": {
        "colab": {
          "base_uri": "https://localhost:8080/",
          "height": 35
        },
        "id": "iVSH0atosFPa",
        "outputId": "f30ec273-a1fe-4f50-acd7-213c34ab6492"
      },
      "execution_count": null,
      "outputs": [
        {
          "output_type": "execute_result",
          "data": {
            "text/plain": [
              "'apple'"
            ],
            "application/vnd.google.colaboratory.intrinsic+json": {
              "type": "string"
            }
          },
          "metadata": {},
          "execution_count": 52
        }
      ]
    },
    {
      "cell_type": "markdown",
      "source": [
        "29. Write a code to combine two dictionaries into one and print the result."
      ],
      "metadata": {
        "id": "Gi9MkUpUugqk"
      }
    },
    {
      "cell_type": "code",
      "source": [
        "my_dict1={'name':\"muzamil\",'age':22}\n",
        "my_dict2={'city':\"shopian\"}\n",
        "combine=my_dict1|my_dict2\n",
        "print(combine)\n",
        "\n",
        "\n",
        "\n"
      ],
      "metadata": {
        "colab": {
          "base_uri": "https://localhost:8080/"
        },
        "id": "we7WNxDGtuWw",
        "outputId": "feae6065-b565-4c8e-a32f-289b603fcb9e"
      },
      "execution_count": null,
      "outputs": [
        {
          "output_type": "stream",
          "name": "stdout",
          "text": [
            "{'name': 'muzamil', 'age': 22, 'city': 'shopian'}\n"
          ]
        }
      ]
    },
    {
      "cell_type": "markdown",
      "source": [
        "30.Write a code to convert a list of strings into a set."
      ],
      "metadata": {
        "id": "-s9s9hELzm7R"
      }
    },
    {
      "cell_type": "code",
      "source": [
        "string_list = [\"apple\", \"banana\", \"cherry\", \"apple\"]\n",
        "string_set = set(string_list)\n",
        "print(string_set)"
      ],
      "metadata": {
        "colab": {
          "base_uri": "https://localhost:8080/"
        },
        "id": "ecNAeE_uvQp2",
        "outputId": "9a250478-d0c8-4295-9297-c3ca24694230"
      },
      "execution_count": null,
      "outputs": [
        {
          "output_type": "stream",
          "name": "stdout",
          "text": [
            "{'apple', 'banana', 'cherry'}\n"
          ]
        }
      ]
    }
  ]
}